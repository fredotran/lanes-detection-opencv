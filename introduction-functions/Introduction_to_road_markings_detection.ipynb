{
 "cells": [
  {
   "cell_type": "markdown",
   "metadata": {},
   "source": [
    "# Finding road markings using OpenCV\n",
    "\n",
    "In this notebook, we will use OpenCV methods in order to detect road markings accurately in a image and using it in real-time video.\n",
    "\n",
    "As we all know, finding road markings is the first step toward building a self-driving system. If a camera sensor can detect with good accuracy road markings, it can follow the lanes and drive safely (in theory).\n",
    "\n",
    "The main steps for detecting road markings are as follow :\n",
    "\n",
    "    1 - Loading the image using OpenCV tools\n",
    "    2 - Converting the RGB image into grayscale (in order to ease our computational cost).\n",
    "    3 - Smoothing the image using some filters (gaussian blur for example) in order to reduce noise.\n",
    "    4 - Use Canny Edge detector in order to get the best edge detection possible.\n",
    "    5 - Masking the region of interest in the input image and apply bitwise_and operator to extract the ROI.\n",
    "    6 - Implementing the Hough Transform (for lines detection).\n",
    "    7 - Optimizing the detected road markings by improving the algorithm.\n",
    "\n",
    "Then we'll test on detecting road markings in a image first then into a video for real-time applications purposes."
   ]
  },
  {
   "cell_type": "code",
   "execution_count": 1,
   "metadata": {},
   "outputs": [],
   "source": [
    "# importing import libraries\n",
    "import cv2\n",
    "import matplotlib.pyplot as plt\n",
    "import matplotlib.image as mpimg\n",
    "import numpy as np"
   ]
  },
  {
   "cell_type": "code",
   "execution_count": 2,
   "metadata": {},
   "outputs": [],
   "source": [
    "# load the image\n",
    "road_img = cv2.imread('test_image.jpg')\n",
    "\n",
    "# show the image\n",
    "cv2.imshow('Image of a road', road_img)\n",
    "cv2.waitKey()\n",
    "cv2.destroyAllWindows()"
   ]
  },
  {
   "cell_type": "markdown",
   "metadata": {},
   "source": [
    "### Converting the colored image into a grayscale image\n",
    "\n",
    "The next step will be to convert the colored image into a grayscale image using cv2.cvtColor() method."
   ]
  },
  {
   "cell_type": "code",
   "execution_count": 3,
   "metadata": {},
   "outputs": [],
   "source": [
    "# convert the image to grayscale\n",
    "road_img_gray = cv2.cvtColor(road_img, cv2.COLOR_BGR2GRAY)\n",
    "\n",
    "# show the image\n",
    "cv2.imshow('Grayscale image of a road', road_img_gray)\n",
    "cv2.waitKey()\n",
    "cv2.destroyAllWindows()"
   ]
  },
  {
   "cell_type": "markdown",
   "metadata": {},
   "source": [
    "### Smoothing the image\n",
    "\n",
    "After the conversion, we need to smooth the image (actually the image is poor quality), the smoothing action will help to reduce noise in the image. In order to smooth the image, we'll try to apply a gaussian blur filter using the method cv2.GaussianBlur()"
   ]
  },
  {
   "cell_type": "code",
   "execution_count": 4,
   "metadata": {},
   "outputs": [],
   "source": [
    "# make a copy of the colored image\n",
    "img_road_lanelines = np.copy(road_img)\n",
    "\n",
    "# convert to grayscale\n",
    "gray_img_road_lanelines = cv2.cvtColor(img_road_lanelines, cv2.COLOR_BGR2GRAY)\n",
    "\n",
    "# apply the gaussian blur filter to reduce noise in the image \n",
    "x_kernel_size , y_kernel_size = (5,5)\n",
    "gray_img_gaussian_blur = cv2.GaussianBlur(gray_img_road_lanelines, (x_kernel_size , y_kernel_size), 0)\n",
    "\n",
    "# show the result\n",
    "cv2.imshow('Grayscale image of a road with Gaussian Blur applied', gray_img_gaussian_blur)\n",
    "cv2.waitKey()\n",
    "cv2.destroyAllWindows()"
   ]
  },
  {
   "cell_type": "markdown",
   "metadata": {},
   "source": [
    "### Canny edge detection\n",
    "\n",
    "We'll know apply the most used edge detection algorithm to the smoothed image using cv2.Canny() method.\n"
   ]
  },
  {
   "cell_type": "code",
   "execution_count": 5,
   "metadata": {},
   "outputs": [],
   "source": [
    "# create and apply the Canny edge detector to our previous smoothed image\n",
    "threshold1, threshold2 = 50, 100\n",
    "canny_img_road = cv2.Canny(gray_img_gaussian_blur, threshold1, threshold2)\n",
    "\n",
    "# display the result\n",
    "cv2.imshow('Canny Edge detection applied on a smoothed grayscale image', canny_img_road)\n",
    "cv2.waitKey()\n",
    "cv2.destroyAllWindows()"
   ]
  },
  {
   "cell_type": "markdown",
   "metadata": {},
   "source": [
    "After doing edge detection, we'll use algorithm to mask the region of interest (ROI) in the image i.e. we'll use an algorithm to isolate the region of road markings.\n",
    "\n",
    "For convenience purpose, we'll put the colbination of smoothing and canny edge detection in a function name canny_edge(input_image, threshold1, threshold2)."
   ]
  },
  {
   "cell_type": "code",
   "execution_count": 6,
   "metadata": {},
   "outputs": [],
   "source": [
    "# canny_edge function\n",
    "def canny_edge(input_image, threshold1, threshold2):\n",
    "    \"\"\"Combination method of smoothing and canny edge detection for an input image\"\"\"\n",
    "    \n",
    "    height_input_image = input_image.shape[0]\n",
    "    width_input_image = input_image.shape[1]\n",
    "    \n",
    "    # convert to grayscale\n",
    "    gray_conversion = cv2.cvtColor(input_image, cv2.COLOR_BGR2GRAY)\n",
    "    \n",
    "    # apply the gaussian blur filter to reduce noise in the image \n",
    "    x_kernel_size , y_kernel_size = (5,5)\n",
    "    blur_conversion = cv2.GaussianBlur(gray_conversion, (x_kernel_size , y_kernel_size), 0)\n",
    "    \n",
    "    # create and apply the Canny edge detector to the input image\n",
    "    canny_conversion = cv2.Canny(blur_conversion, threshold1, threshold2)\n",
    "    \n",
    "    return canny_conversion    "
   ]
  },
  {
   "cell_type": "code",
   "execution_count": 7,
   "metadata": {},
   "outputs": [
    {
     "data": {
      "text/plain": [
       "<matplotlib.image.AxesImage at 0x25047e092c8>"
      ]
     },
     "execution_count": 7,
     "metadata": {},
     "output_type": "execute_result"
    },
    {
     "data": {
      "image/png": "[encoded data removed]",
      "text/plain": [
       "<Figure size 432x288 with 1 Axes>"
      ]
     },
     "metadata": {
      "needs_background": "light"
     },
     "output_type": "display_data"
    }
   ],
   "source": [
    "# test of the function\n",
    "img = canny_edge(road_img, 50,100)\n",
    "plt.imshow(img)\n",
    "#cv2.imshow('Test of the canny_edge function', img)\n",
    "#cv2.waitKey()\n",
    "#cv2.destroyAllWindows()"
   ]
  },
  {
   "cell_type": "markdown",
   "metadata": {},
   "source": [
    "### ROI masking (Region of interest)\n",
    "\n",
    "We saw earlier how to do Region of interest masking, we'll gather everything up into a new method called roi_masking(). First, we have to set the coordinates of our ROI in a polygon : polygons = np.array([[(200, image_height), (1100, image_height), (551, 250)]]).\n",
    "\n",
    "Note : The bitwise_and operator is used to multiply all the bits in the black region of the image by 0000 and the white region by 1111 (ROI region), thanks to this conversion it will keep our ROI."
   ]
  },
  {
   "cell_type": "code",
   "execution_count": 8,
   "metadata": {},
   "outputs": [],
   "source": [
    "# set the ROI   \n",
    "height_image = img.shape[0]\n",
    "polygons = np.array([[(200, height_image), (1100, height_image), (551, 250)]])    "
   ]
  },
  {
   "cell_type": "code",
   "execution_count": 9,
   "metadata": {},
   "outputs": [],
   "source": [
    "# ROI masking function\n",
    "def roi_masking(input_image):\n",
    "    \"\"\"Region of interest masking function\"\"\"\n",
    "    \n",
    "    height_input_image = input_image.shape[0]\n",
    "    width_input_image = input_image.shape[1]    \n",
    "    \n",
    "    # create the mask\n",
    "    mask = np.zeros_like(input_image)\n",
    "    \n",
    "    # fill the ROI mask in the image using polygons and the mask, the mask will whiten all the pixels in the ROI\n",
    "    cv2.fillPoly(mask, polygons, 255)\n",
    "    \n",
    "    # applying on the image\n",
    "    roi_img_mask = cv2.bitwise_and(input_image, mask)\n",
    "    \n",
    "    return roi_img_mask"
   ]
  },
  {
   "cell_type": "code",
   "execution_count": 11,
   "metadata": {},
   "outputs": [],
   "source": [
    "# test ROI mask\n",
    "img2_canny = canny_edge(road_img, 50,100)\n",
    "img2 = roi_masking(img2_canny)\n",
    "\n",
    "# display the result\n",
    "cv2.imshow('ROI masking', img2)\n",
    "cv2.waitKey()\n",
    "cv2.destroyAllWindows()"
   ]
  },
  {
   "cell_type": "markdown",
   "metadata": {},
   "source": [
    "### Hough transform\n",
    "\n",
    "Now, in order to make sure the algorithm can recognize lines, we'll apply the Hough Transform on the previous filtered image. Using the functions we've defined previously, we can create a function called show_lines to underline the detected lines by the Hough Transformation (method : cv2.HoughLinesP())."
   ]
  },
  {
   "cell_type": "code",
   "execution_count": null,
   "metadata": {},
   "outputs": [],
   "source": [
    "def show_lines(image, lines):\n",
    "    \"\"\" Function used to draw lines in blue when detected by Hough Transformation\"\"\"\n",
    "    lines_image = np.zeros_like(image)\n",
    "    if lines is not None:\n",
    "        for line in lines:\n",
    "            X1, Y1, X2, Y2 = line.reshape(4)\n",
    "            cv2.line(lines_image, (X1, Y1), (X2, Y2), (255,0,0), 10)\n",
    "    return lines_image"
   ]
  },
  {
   "cell_type": "code",
   "execution_count": null,
   "metadata": {},
   "outputs": [],
   "source": [
    "# duplicate the original image\n",
    "road_img_copy = np.copy(road_img)\n",
    "\n",
    "# apply canny edge detection\n",
    "img_copy_canny = canny_edge(road_img_copy, 50,100)\n",
    "\n",
    "# set the ROI   \n",
    "height_image = img.shape[0]\n",
    "polygons = np.array([[(200, height_image), (1100, height_image), (551, 250)]])   \n",
    "\n",
    "# apply the ROI masking\n",
    "img_copy_roi = roi_masking(img_copy_canny)\n",
    "# plt.imshow(img_copy_roi)"
   ]
  },
  {
   "cell_type": "code",
   "execution_count": null,
   "metadata": {},
   "outputs": [],
   "source": [
    "# set the Hough Transform\n",
    "img_copy_hough = cv2.HoughLinesP(img_copy_roi, 2, np.pi/180, 100, np.array([]), minLineLength= 40, maxLineGap=5)\n",
    "image_with_lines = show_lines (road_img_copy, img_copy_hough)"
   ]
  },
  {
   "cell_type": "code",
   "execution_count": null,
   "metadata": {},
   "outputs": [],
   "source": [
    "# display the result in the original image\n",
    "combine_image = cv2.addWeighted(road_img_copy, 0.8, image_with_lines, 1, 1)\n",
    "\n",
    "cv2.imshow('result', combine_image)\n",
    "cv2.waitKey(0)\n",
    "cv2.destroyAllWindows()"
   ]
  },
  {
   "cell_type": "code",
   "execution_count": null,
   "metadata": {},
   "outputs": [],
   "source": []
  }
 ],
 "metadata": {
  "kernelspec": {
   "display_name": "Python 3",
   "language": "python",
   "name": "python3"
  },
  "language_info": {
   "codemirror_mode": {
    "name": "ipython",
    "version": 3
   },
   "file_extension": ".py",
   "mimetype": "text/x-python",
   "name": "python",
   "nbconvert_exporter": "python",
   "pygments_lexer": "ipython3",
   "version": "3.8.5"
  }
 },
 "nbformat": 4,
 "nbformat_minor": 4
}
