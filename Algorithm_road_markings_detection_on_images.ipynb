{
 "cells": [
  {
   "cell_type": "markdown",
   "metadata": {},
   "source": [
    "# Improving road marking detections on images\n",
    "\n",
    "This notebook uses the function and methods we created in order to detect road markings on roads' input images. We'll try these algorithms on images and videos."
   ]
  },
  {
   "cell_type": "code",
   "execution_count": 1,
   "metadata": {},
   "outputs": [],
   "source": [
    "import cv2\n",
    "import matplotlib.pyplot as plt\n",
    "import matplotlib.image as mpimg\n",
    "import numpy as np\n",
    "\n",
    "from markings_utils import *\n",
    "from averaging_tools import *"
   ]
  },
  {
   "cell_type": "code",
   "execution_count": null,
   "metadata": {},
   "outputs": [],
   "source": [
    "# load the image\n",
    "road_img = cv2.imread('test_image.jpg')\n",
    "\n",
    "# show the image\n",
    "\"\"\"cv2.imshow('Image of a road', road_img)\n",
    "cv2.waitKey()\n",
    "cv2.destroyAllWindows()\"\"\""
   ]
  },
  {
   "cell_type": "markdown",
   "metadata": {},
   "source": [
    "### Canny edge detection"
   ]
  },
  {
   "cell_type": "code",
   "execution_count": null,
   "metadata": {},
   "outputs": [],
   "source": [
    "# apply canny edge detection\n",
    "img_copy = np.copy(road_img) # copy of the original image\n",
    "canny_img = canny_edge(img_copy, 50 , 100)\n",
    "\n",
    "# display result\n",
    "\"\"\"cv2.imshow('Canny Edge detection applied on input image', canny_img)\n",
    "cv2.waitKey()\n",
    "cv2.destroyAllWindows()\"\"\""
   ]
  },
  {
   "cell_type": "markdown",
   "metadata": {},
   "source": [
    "###  Region of interest masking"
   ]
  },
  {
   "cell_type": "code",
   "execution_count": null,
   "metadata": {},
   "outputs": [],
   "source": [
    "# set the polygons of the ROI algorithm\n",
    "height_img_copy = img_copy.shape[0]\n",
    "#polygons = np.array([[(0, height_img_copy-16),(300, 250), (450, 300), (700, height_img_copy)]]) # definition of the ROI's shape\n",
    "polygons = np.array([[(200, height_img_copy), (1100, height_img_copy), (551, 250)]])"
   ]
  },
  {
   "cell_type": "code",
   "execution_count": null,
   "metadata": {},
   "outputs": [],
   "source": [
    "# apply ROI algo\n",
    "roi_masking_img = roi_masking(canny_img, polygons)\n",
    "\n",
    "# display result\n",
    "\"\"\"cv2.imshow('Canny Edge detection and ROI applied on input image', roi_masking_img)\n",
    "cv2.waitKey()\n",
    "cv2.destroyAllWindows()\"\"\""
   ]
  },
  {
   "cell_type": "markdown",
   "metadata": {},
   "source": [
    "### Hough transform"
   ]
  },
  {
   "cell_type": "code",
   "execution_count": null,
   "metadata": {},
   "outputs": [],
   "source": [
    "# apply hough transform to the input image\n",
    "hough_img = cv2.HoughLinesP(roi_masking_img, 2, np.pi/180, 20, np.array([]), minLineLength=25, maxLineGap=5)\n",
    "img_with_lines = show_lines(img_copy, hough_img)"
   ]
  },
  {
   "cell_type": "code",
   "execution_count": null,
   "metadata": {},
   "outputs": [],
   "source": [
    "# display the result in the original image\n",
    "combine_image = cv2.addWeighted(img_copy, 0.8, img_with_lines, 1, 1)\n",
    "\n",
    "cv2.imshow('Result', combine_image)\n",
    "cv2.waitKey(0)\n",
    "cv2.destroyAllWindows()"
   ]
  },
  {
   "cell_type": "markdown",
   "metadata": {},
   "source": [
    "### Improving the previous algorithm by using averaging slope intercept\n",
    "\n",
    "We know that the important thing is : the lines currently displayed by our previous algorithm correspond to the section that exceeded the voting threshold. They were VOTED as the lines that best described the data and then we have multiple lines detected at the same position or close to that position. That's why we will average out their slopes and y-intercepts to merge them into a single line that could be able to trace all of the lanes detected at the same position. We'll do this by creating two new functions and add these functions to our existed-algorithm.\n",
    "\n",
    "We'll test this in an image first."
   ]
  },
  {
   "cell_type": "code",
   "execution_count": null,
   "metadata": {},
   "outputs": [],
   "source": [
    "# averaging the lines\n",
    "averaged_lines = average_slope_intercept(img_copy, hough_img)\n",
    "\n",
    "# show the averaged lines\n",
    "img_with_average_lines = show_lines(img_copy, averaged_lines)\n",
    "\n",
    "# combine the image and display\n",
    "combine_image = cv2.addWeighted(img_copy, 0.8, img_with_average_lines, 1, 1)\n",
    "cv2.imshow('result', combine_image)\n",
    "cv2.waitKey(0)\n",
    "cv2.destroyAllWindows()"
   ]
  },
  {
   "cell_type": "code",
   "execution_count": null,
   "metadata": {},
   "outputs": [],
   "source": []
  }
 ],
 "metadata": {
  "kernelspec": {
   "display_name": "Python 3",
   "language": "python",
   "name": "python3"
  },
  "language_info": {
   "codemirror_mode": {
    "name": "ipython",
    "version": 3
   },
   "file_extension": ".py",
   "mimetype": "text/x-python",
   "name": "python",
   "nbconvert_exporter": "python",
   "pygments_lexer": "ipython3",
   "version": "3.7.9"
  }
 },
 "nbformat": 4,
 "nbformat_minor": 4
}
