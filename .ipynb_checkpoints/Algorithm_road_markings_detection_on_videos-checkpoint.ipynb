{
 "cells": [
  {
   "cell_type": "markdown",
   "metadata": {},
   "source": [
    "# Improving marking detections on videos\n",
    "\n",
    "This notebook uses the function and methods we created in order to detect road markings on roads' input images. We'll try these algorithms on images and videos."
   ]
  },
  {
   "cell_type": "code",
   "execution_count": 1,
   "metadata": {},
   "outputs": [],
   "source": [
    "# import useful libraries\n",
    "import cv2\n",
    "import matplotlib.pyplot as plt\n",
    "import matplotlib.image as mpimg\n",
    "import numpy as np\n",
    "\n",
    "from markings_utils import *\n",
    "from averaging_tools import *"
   ]
  },
  {
   "cell_type": "markdown",
   "metadata": {},
   "source": [
    "Note : All the functions, methods and algorithm used are available in the folder.\n",
    "\n",
    "#### Test on video"
   ]
  },
  {
   "cell_type": "code",
   "execution_count": 2,
   "metadata": {},
   "outputs": [],
   "source": [
    "# import the corresponding image frame\n",
    "road_img = cv2.imread('test_image.jpg')\n",
    "img_copy = np.copy(road_img)"
   ]
  },
  {
   "cell_type": "code",
   "execution_count": 4,
   "metadata": {},
   "outputs": [],
   "source": [
    "# load the video\n",
    "cap = cv2.VideoCapture(\"video_test.mp4\")\n",
    "\n",
    "# save the video with object detections\n",
    "frame_width = int(cap.get(3))\n",
    "frame_height = int(cap.get(4))\n",
    "combo_image_save = cv2.VideoWriter('./results/videos/video_res.avi',cv2.VideoWriter_fourcc('M','J','P','G'), 20, (frame_width,frame_height))\n",
    "\n",
    "# code to execute our algorithm\n",
    "while(cap.isOpened()):\n",
    "    \n",
    "    _, frame = cap.read()\n",
    "    \n",
    "    if _ == True:\n",
    "        # canny edge detection\n",
    "        canny_image = canny_edge(frame, 50, 100)\n",
    "    \n",
    "        # roi masking    \n",
    "        height_img_copy = img_copy.shape[0] # get the height of the first frame (image)\n",
    "        polygons = np.array([[(200, height_img_copy), (1100, height_img_copy), (551, 250)]]) # define the ROI\n",
    "        cropped_canny = roi_masking(canny_image, polygons) # apply the ROI algorithm to the video\n",
    "\n",
    "        # hough transform\n",
    "        lines = cv2.HoughLinesP(cropped_canny, 2, np.pi/180, 100, np.array([]), minLineLength=40,maxLineGap=5)\n",
    "        \n",
    "        # average lines intercept\n",
    "        averaged_lines = average_slope_intercept(frame, lines)\n",
    "\n",
    "        # show the lines in the original image\n",
    "        line_image = show_lines(frame, averaged_lines)\n",
    "        combo_image = cv2.addWeighted(frame, 0.8, line_image, 1, 1)\n",
    "        \n",
    "        # save the video\n",
    "        combo_image_save.write(combo_image)\n",
    "        \n",
    "        cv2.imshow(\"result\", combo_image)\n",
    "   \n",
    "        # to quit\n",
    "        if cv2.waitKey(1) & 0xFF == ord('q'):\n",
    "            break\n",
    "    else:\n",
    "        break\n",
    "\n",
    "cap.release()\n",
    "cv2.destroyAllWindows()"
   ]
  },
  {
   "cell_type": "code",
   "execution_count": null,
   "metadata": {},
   "outputs": [],
   "source": []
  }
 ],
 "metadata": {
  "kernelspec": {
   "display_name": "Python 3",
   "language": "python",
   "name": "python3"
  },
  "language_info": {
   "codemirror_mode": {
    "name": "ipython",
    "version": 3
   },
   "file_extension": ".py",
   "mimetype": "text/x-python",
   "name": "python",
   "nbconvert_exporter": "python",
   "pygments_lexer": "ipython3",
   "version": "3.8.7"
  }
 },
 "nbformat": 4,
 "nbformat_minor": 4
}
